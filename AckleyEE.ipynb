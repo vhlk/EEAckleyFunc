{
  "nbformat": 4,
  "nbformat_minor": 0,
  "metadata": {
    "colab": {
      "provenance": [],
      "collapsed_sections": []
    },
    "kernelspec": {
      "name": "python3",
      "display_name": "Python 3"
    },
    "language_info": {
      "name": "python"
    }
  },
  "cells": [
    {
      "cell_type": "code",
      "source": [
        "from numpy import exp\n",
        "from numpy import sqrt\n",
        "from numpy import cos\n",
        "from numpy import e\n",
        "from numpy import pi\n",
        "from typing import List\n",
        "import random"
      ],
      "metadata": {
        "id": "_5vCseSwkL8n"
      },
      "execution_count": null,
      "outputs": []
    },
    {
      "cell_type": "code",
      "execution_count": null,
      "metadata": {
        "id": "Mg6S7rSljqUM"
      },
      "outputs": [],
      "source": [
        "A = 20\n",
        "B = 0.2\n",
        "C = 2 * pi\n",
        "D = 30"
      ]
    },
    {
      "cell_type": "code",
      "source": [
        "def ackley_funct(x: List[float]):\n",
        "  return - A * exp(-B * sqrt(sum(map(lambda n: n ** 2, x)) / D)) \\\n",
        "          - exp(sum(map(lambda n: cos(C * n), x)) / D) \\\n",
        "          + A + exp(1)"
      ],
      "metadata": {
        "id": "mCRuuLTHkhMJ"
      },
      "execution_count": null,
      "outputs": []
    },
    {
      "cell_type": "code",
      "source": [
        "print(f'{ackley_funct([0] * 30) : .15f}') "
      ],
      "metadata": {
        "colab": {
          "base_uri": "https://localhost:8080/"
        },
        "id": "IHv1lR9vqAF2",
        "outputId": "c75de589-ebdb-44fd-fed7-2c74c3932d8b"
      },
      "execution_count": null,
      "outputs": [
        {
          "output_type": "stream",
          "name": "stdout",
          "text": [
            " 0.000000000000000\n"
          ]
        }
      ]
    },
    {
      "cell_type": "code",
      "source": [
        "def generate_individual():\n",
        "  x = [0] * D\n",
        "\n",
        "  for i in range(D):\n",
        "    x[i] = random.uniform(-15, 15)"
      ],
      "metadata": {
        "id": "XEqXwKL7tvr6"
      },
      "execution_count": null,
      "outputs": []
    }
  ]
}