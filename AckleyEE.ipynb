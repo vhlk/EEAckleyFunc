{
  "cells": [
    {
      "cell_type": "markdown",
      "metadata": {},
      "source": [
        "##### imports"
      ]
    },
    {
      "cell_type": "code",
      "execution_count": 84,
      "metadata": {
        "id": "_5vCseSwkL8n"
      },
      "outputs": [],
      "source": [
        "from numpy import exp\n",
        "from numpy import sqrt\n",
        "from numpy import cos\n",
        "from numpy import e\n",
        "from numpy import pi\n",
        "from typing import List\n",
        "import random"
      ]
    },
    {
      "cell_type": "markdown",
      "metadata": {},
      "source": [
        "#### Definindo váriaveis e função de avaliação"
      ]
    },
    {
      "cell_type": "code",
      "execution_count": 86,
      "metadata": {},
      "outputs": [],
      "source": [
        "TAM_DA_POPULACAO = 10\n",
        "POPULACAO = []\n",
        "MUTACOES_POP = []\n",
        "D_DE_FILHOS = 7 * TAM_DA_POPULACAO\n"
      ]
    },
    {
      "cell_type": "code",
      "execution_count": 87,
      "metadata": {
        "id": "Mg6S7rSljqUM"
      },
      "outputs": [],
      "source": [
        "A = 20\n",
        "B = 0.2\n",
        "C = 2 * pi\n",
        "D = 30"
      ]
    },
    {
      "cell_type": "code",
      "execution_count": 88,
      "metadata": {
        "id": "mCRuuLTHkhMJ"
      },
      "outputs": [],
      "source": [
        "def ackley_funct(x: List[float]):\n",
        "  return - A * exp(-B * sqrt(sum(map(lambda n: n ** 2, x)) / D)) \\\n",
        "          - exp(sum(map(lambda n: cos(C * n), x)) / D) \\\n",
        "          + A + exp(1)"
      ]
    },
    {
      "cell_type": "code",
      "execution_count": 97,
      "metadata": {
        "colab": {
          "base_uri": "https://localhost:8080/"
        },
        "id": "IHv1lR9vqAF2",
        "outputId": "c75de589-ebdb-44fd-fed7-2c74c3932d8b"
      },
      "outputs": [
        {
          "name": "stdout",
          "output_type": "stream",
          "text": [
            " 0.000000000000000\n"
          ]
        }
      ],
      "source": [
        "print(f'{ackley_funct([0,0,0,0,0,0,0,0,0,0,0,0,0,0,0,0,0,0,0,0,0,0,0,0,0,0,0,0,0,0]) : .15f}') "
      ]
    },
    {
      "cell_type": "markdown",
      "metadata": {},
      "source": [
        "# Versão 1 - Estratégia Evolutiva"
      ]
    },
    {
      "cell_type": "markdown",
      "metadata": {},
      "source": [
        "## Inicialização da população"
      ]
    },
    {
      "cell_type": "code",
      "execution_count": 91,
      "metadata": {
        "id": "XEqXwKL7tvr6"
      },
      "outputs": [],
      "source": [
        "def generate_individual():\n",
        "  x = []\n",
        "  for i in range(D):\n",
        "    x.append(random.uniform(-15, 15))\n",
        "    \n",
        "  return x"
      ]
    },
    {
      "cell_type": "code",
      "execution_count": 96,
      "metadata": {},
      "outputs": [],
      "source": [
        "def generate_population():\n",
        "  global POPULACAO, TAM_DA_POPULACAO, MUTACOES_POP\n",
        "  \n",
        "  for _ in range(TAM_DA_POPULACAO):\n",
        "    POPULACAO.append(generate_individual())\n",
        "    MUTACOES_POP.append(random.normalvariate(0,1))"
      ]
    },
    {
      "cell_type": "code",
      "execution_count": 50,
      "metadata": {},
      "outputs": [],
      "source": [
        "def reset_population() -> None:\n",
        "    global POPULACAO\n",
        "\n",
        "    POPULACAO = []"
      ]
    },
    {
      "cell_type": "markdown",
      "metadata": {},
      "source": [
        "## Seleção de pais"
      ]
    },
    {
      "cell_type": "code",
      "execution_count": 71,
      "metadata": {},
      "outputs": [],
      "source": [
        "def select_parents():\n",
        "    global POPULACAO\n",
        "\n",
        "    pai1, pai2 = random.sample(POPULACAO, 2)\n",
        "\n",
        "    return pai1, pai2"
      ]
    },
    {
      "cell_type": "markdown",
      "metadata": {},
      "source": [
        "## Recombinação"
      ]
    },
    {
      "cell_type": "code",
      "execution_count": 83,
      "metadata": {},
      "outputs": [],
      "source": [
        "# Local discreto\n",
        "def evolutive_crossover(pai1: List[float], pai2: List[float]):\n",
        "    filho = []\n",
        "    for i in range(D):\n",
        "        filho += random.sample([pai1[i], pai2[i]], 1)\n",
        "\n",
        "    return filho"
      ]
    },
    {
      "cell_type": "code",
      "execution_count": 82,
      "metadata": {},
      "outputs": [
        {
          "name": "stdout",
          "output_type": "stream",
          "text": [
            "30\n"
          ]
        }
      ],
      "source": [
        "# inicializar EE\n",
        "reset_population()\n",
        "generate_population()\n",
        "\n",
        "filhos = []\n",
        "for _ in range(QTD_DE_FILHOS):\n",
        "    pai1, pai2 = select_parents()\n",
        "    filhos.append(evolutive_crossover(pai1, pai2))\n",
        "\n",
        "print(filhos[0])"
      ]
    },
    {
      "cell_type": "markdown",
      "metadata": {},
      "source": [
        "## Mutação"
      ]
    },
    {
      "cell_type": "code",
      "execution_count": null,
      "metadata": {},
      "outputs": [],
      "source": [
        "def regra_1_quinto(sigma: float, sucesso: float, c: float) -> float:\n",
        "    if sucesso > 1 / 5:\n",
        "        sigma = sigma / c\n",
        "    elif sucesso < 1 / 5:\n",
        "        sigma = sigma * c\n",
        "    \n",
        "    return sigma"
      ]
    },
    {
      "cell_type": "markdown",
      "metadata": {},
      "source": [
        "# Versão 2 - Estratégia Genética"
      ]
    },
    {
      "cell_type": "code",
      "execution_count": null,
      "metadata": {},
      "outputs": [],
      "source": []
    }
  ],
  "metadata": {
    "colab": {
      "collapsed_sections": [],
      "provenance": []
    },
    "kernelspec": {
      "display_name": "Python 3.10.4 64-bit",
      "language": "python",
      "name": "python3"
    },
    "language_info": {
      "codemirror_mode": {
        "name": "ipython",
        "version": 3
      },
      "file_extension": ".py",
      "mimetype": "text/x-python",
      "name": "python",
      "nbconvert_exporter": "python",
      "pygments_lexer": "ipython3",
      "version": "3.10.4"
    },
    "vscode": {
      "interpreter": {
        "hash": "2cc2e16dbee610b0e1c32f41d5c733295c8c2d617135d4c87338d8903d28c5c5"
      }
    }
  },
  "nbformat": 4,
  "nbformat_minor": 0
}
