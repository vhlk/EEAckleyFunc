{
  "cells": [
    {
      "cell_type": "markdown",
      "metadata": {},
      "source": [
        "##### imports"
      ]
    },
    {
      "cell_type": "code",
      "execution_count": 276,
      "metadata": {
        "id": "_5vCseSwkL8n"
      },
      "outputs": [],
      "source": [
        "from numpy import exp\n",
        "from numpy import sqrt\n",
        "from numpy import cos\n",
        "from numpy import e\n",
        "from numpy import pi\n",
        "from typing import List, Callable, Tuple\n",
        "import random"
      ]
    },
    {
      "cell_type": "markdown",
      "metadata": {},
      "source": [
        "#### Definindo váriaveis e função de avaliação"
      ]
    },
    {
      "cell_type": "code",
      "execution_count": 277,
      "metadata": {
        "id": "Mg6S7rSljqUM"
      },
      "outputs": [],
      "source": [
        "A = 20\n",
        "B = 0.2\n",
        "C = 2 * pi\n",
        "D = 30"
      ]
    },
    {
      "cell_type": "code",
      "execution_count": 278,
      "metadata": {},
      "outputs": [],
      "source": [
        "TAM_DA_POPULACAO = 10\n",
        "POPULACAO = []\n",
        "QTD_DE_FILHOS = 7 * TAM_DA_POPULACAO\n",
        "TAXA_APRENDIZAGEM = 1 / sqrt(D)\n",
        "EPSILON_0 = 0.001\n",
        "MAX_ITERS = 10_000\n",
        "CURR_SUCCESS = 0"
      ]
    },
    {
      "cell_type": "code",
      "execution_count": 279,
      "metadata": {
        "id": "mCRuuLTHkhMJ"
      },
      "outputs": [],
      "source": [
        "def ackley_funct(x: List[float]):\n",
        "  return - A * exp(-B * sqrt(sum(map(lambda n: n ** 2, x)) / D)) \\\n",
        "          - exp(sum(map(lambda n: cos(C * n), x)) / D) \\\n",
        "          + A + exp(1)"
      ]
    },
    {
      "cell_type": "code",
      "execution_count": 280,
      "metadata": {},
      "outputs": [],
      "source": [
        "FITNESS_FUNC = ackley_funct"
      ]
    },
    {
      "cell_type": "code",
      "execution_count": 281,
      "metadata": {},
      "outputs": [],
      "source": [
        "def fitness(fitness_func: Callable, cromossome: List[float]):\n",
        "    return fitness_func(cromossome)"
      ]
    },
    {
      "cell_type": "code",
      "execution_count": 282,
      "metadata": {
        "colab": {
          "base_uri": "https://localhost:8080/"
        },
        "id": "IHv1lR9vqAF2",
        "outputId": "c75de589-ebdb-44fd-fed7-2c74c3932d8b"
      },
      "outputs": [
        {
          "name": "stdout",
          "output_type": "stream",
          "text": [
            " 0.000000000000000\n"
          ]
        }
      ],
      "source": [
        "print(f'{ackley_funct([0 for _ in range(30)]) : .15f}')"
      ]
    },
    {
      "cell_type": "markdown",
      "metadata": {},
      "source": [
        "# Estratégia Evolutiva"
      ]
    },
    {
      "cell_type": "markdown",
      "metadata": {},
      "source": [
        "## Versão 1"
      ]
    },
    {
      "cell_type": "markdown",
      "metadata": {},
      "source": [
        "### Inicialização da população"
      ]
    },
    {
      "cell_type": "code",
      "execution_count": 283,
      "metadata": {
        "id": "XEqXwKL7tvr6"
      },
      "outputs": [],
      "source": [
        "def generate_individual():\n",
        "  x = []\n",
        "  for i in range(D):\n",
        "    x.append(random.uniform(-15, 15))\n",
        "    \n",
        "  return x"
      ]
    },
    {
      "cell_type": "code",
      "execution_count": 284,
      "metadata": {},
      "outputs": [],
      "source": [
        "def generate_population():\n",
        "  global POPULACAO, TAM_DA_POPULACAO\n",
        "  \n",
        "  for _ in range(TAM_DA_POPULACAO):\n",
        "    POPULACAO.append((generate_individual(), random.normalvariate(0, 1)))"
      ]
    },
    {
      "cell_type": "code",
      "execution_count": 285,
      "metadata": {},
      "outputs": [],
      "source": [
        "def reset_population() -> None:\n",
        "    global POPULACAO\n",
        "\n",
        "    POPULACAO = []"
      ]
    },
    {
      "cell_type": "markdown",
      "metadata": {},
      "source": [
        "### Seleção de pais"
      ]
    },
    {
      "cell_type": "code",
      "execution_count": 286,
      "metadata": {},
      "outputs": [],
      "source": [
        "def select_parents():\n",
        "    global POPULACAO\n",
        "\n",
        "    pai1, pai2 = random.sample(POPULACAO, 2)\n",
        "\n",
        "    return pai1, pai2"
      ]
    },
    {
      "cell_type": "markdown",
      "metadata": {},
      "source": [
        "### Recombinação"
      ]
    },
    {
      "cell_type": "code",
      "execution_count": 287,
      "metadata": {},
      "outputs": [],
      "source": [
        "# Local discreto\n",
        "def evolutive_crossover(pai1: Tuple[List[float], float], pai2: Tuple[List[float], float]):\n",
        "    filho = []\n",
        "    for i in range(D):\n",
        "        filho += random.sample([pai1[0][i], pai2[0][i]], 1)\n",
        "        \n",
        "    sigma = random.sample([pai1[1], pai2[1]], 1)[0]\n",
        "\n",
        "    return filho, sigma"
      ]
    },
    {
      "cell_type": "code",
      "execution_count": 288,
      "metadata": {},
      "outputs": [],
      "source": [
        "def crossover():\n",
        "    global QTD_DE_FILHOS\n",
        "\n",
        "    filhos = []\n",
        "    for _ in range(QTD_DE_FILHOS):\n",
        "        pai1, pai2 = select_parents()\n",
        "        filhos.append(evolutive_crossover(pai1, pai2))\n",
        "\n",
        "    return filhos"
      ]
    },
    {
      "cell_type": "markdown",
      "metadata": {},
      "source": [
        "### Mutação"
      ]
    },
    {
      "cell_type": "code",
      "execution_count": 289,
      "metadata": {},
      "outputs": [],
      "source": [
        "def regra_1_quinto(sigma: float, sucesso: float) -> float:\n",
        "    c = 0.8\n",
        "    \n",
        "    if sucesso > 1 / 5:\n",
        "        sigma = sigma / c\n",
        "    elif sucesso < 1 / 5:\n",
        "        sigma = sigma * c\n",
        "    \n",
        "    return sigma"
      ]
    },
    {
      "cell_type": "code",
      "execution_count": 290,
      "metadata": {},
      "outputs": [],
      "source": [
        "def calc_sigma(sigma: float) -> float:\n",
        "    global TAXA_APRENDIZAGEM, EPSILON_0\n",
        "\n",
        "    new_sigma = sigma * exp(TAXA_APRENDIZAGEM * random.uniform(0, 1))\n",
        "\n",
        "    return max(new_sigma, EPSILON_0)"
      ]
    },
    {
      "cell_type": "code",
      "execution_count": 291,
      "metadata": {},
      "outputs": [],
      "source": [
        "def test_success(old_indiv_fitness, new_indiv_fitness):\n",
        "    global CURR_SUCCESS\n",
        "\n",
        "    if new_indiv_fitness <= old_indiv_fitness:\n",
        "        CURR_SUCCESS += 1"
      ]
    },
    {
      "cell_type": "code",
      "execution_count": 292,
      "metadata": {},
      "outputs": [],
      "source": [
        "def get_success() -> float:\n",
        "    global CURR_SUCCESS\n",
        "    \n",
        "    return CURR_SUCCESS / QTD_DE_FILHOS"
      ]
    },
    {
      "cell_type": "code",
      "execution_count": 293,
      "metadata": {},
      "outputs": [],
      "source": [
        "def reset_success() -> None:\n",
        "    global CURR_SUCCESS\n",
        "\n",
        "    CURR_SUCCESS = 0"
      ]
    },
    {
      "cell_type": "code",
      "execution_count": 294,
      "metadata": {},
      "outputs": [],
      "source": [
        "def mutate_and_calc_sucess(individuo: List[float], sigma: float):\n",
        "    novo_sigma = calc_sigma(sigma)\n",
        "\n",
        "    old_fitness = fitness(FITNESS_FUNC, individuo)\n",
        "    \n",
        "    for i in range(len(individuo)):\n",
        "        individuo[i] = min(max(individuo[i] + novo_sigma * random.normalvariate(0, 1), -15), 15)\n",
        "\n",
        "    new_fitness = fitness(FITNESS_FUNC, individuo)\n",
        "    test_success(old_fitness, new_fitness)\n",
        "\n",
        "    return individuo, novo_sigma"
      ]
    },
    {
      "cell_type": "code",
      "execution_count": 295,
      "metadata": {},
      "outputs": [],
      "source": [
        "def mutate(filhos: List[Tuple[List[float], float]]):\n",
        "    global QTD_DE_FILHOS\n",
        "\n",
        "    filhos_mutados = []\n",
        "    for i in range(QTD_DE_FILHOS):\n",
        "        filhos_mutados.append(mutate_and_calc_sucess(filhos[i][0], filhos[i][1]))\n",
        "\n",
        "    return filhos_mutados"
      ]
    },
    {
      "cell_type": "markdown",
      "metadata": {},
      "source": [
        "### Seleção de sobreviventes"
      ]
    },
    {
      "cell_type": "markdown",
      "metadata": {},
      "source": [
        "#### Geracional"
      ]
    },
    {
      "cell_type": "code",
      "execution_count": 308,
      "metadata": {},
      "outputs": [],
      "source": [
        "def generational(filhos: List[Tuple[List[float], float]]):\n",
        "    global POPULACAO, FITNESS_FUNC, TAM_DA_POPULACAO\n",
        "    \n",
        "    filhos.sort(key=lambda filho: fitness(FITNESS_FUNC, filho[0]), reverse=False)\n",
        "    POPULACAO = filhos[:TAM_DA_POPULACAO]"
      ]
    },
    {
      "cell_type": "markdown",
      "metadata": {},
      "source": [
        "### Loop"
      ]
    },
    {
      "cell_type": "code",
      "execution_count": 297,
      "metadata": {},
      "outputs": [],
      "source": [
        "def is_close(a: float, b: float, diff: float = 0.00001):\n",
        "    if a + diff > b and b + diff > a:\n",
        "        return True\n",
        "        \n",
        "    return False"
      ]
    },
    {
      "cell_type": "code",
      "execution_count": 298,
      "metadata": {},
      "outputs": [],
      "source": [
        "def should_stop(curr_best_fitness: float, curr_iter: int):\n",
        "    if is_close(curr_best_fitness, 0):\n",
        "        return True\n",
        "    if curr_iter == MAX_ITERS:\n",
        "        return True\n",
        "    \n",
        "    return False"
      ]
    },
    {
      "cell_type": "code",
      "execution_count": 310,
      "metadata": {},
      "outputs": [
        {
          "name": "stdout",
          "output_type": "stream",
          "text": [
            "13.644285218849518 [-2.134758914249332, -5.600933938143857, 0.3345529277721191, -5.315666287577262, -5.112130993636775, 3.3965479302041253, 5.303401800277516, 5.031098990359773, 0.6334013005359456, -2.4495992028492157, 0.8311814374745996, 7.564759101949669, 8.046765631247535, -2.0423408810617065, -0.0457691648445806, -1.0377929543280509, 2.991249587576842, -4.98792263926741, -6.174099776071401, -3.3164524205953683, 6.539524977177667, 1.8675657374425612, 6.217587081941055, 4.8673141782347145, 1.8017613941705868, 2.3225198285658237, 6.123187222610834, 11.095312193843377, 1.7071194340756648, -0.15500088137774348]\n",
            "13.644285218849518 [-2.134758914249332, -5.600933938143857, 0.3345529277721191, -5.315666287577262, -5.112130993636775, 3.3965479302041253, 5.303401800277516, 5.031098990359773, 0.6334013005359456, -2.4495992028492157, 0.8311814374745996, 7.564759101949669, 8.046765631247535, -2.0423408810617065, -0.0457691648445806, -1.0377929543280509, 2.991249587576842, -4.98792263926741, -6.174099776071401, -3.3164524205953683, 6.539524977177667, 1.8675657374425612, 6.217587081941055, 4.8673141782347145, 1.8017613941705868, 2.3225198285658237, 6.123187222610834, 11.095312193843377, 1.7071194340756648, -0.15500088137774348]\n",
            "13.644285218849518 [-2.134758914249332, -5.600933938143857, 0.3345529277721191, -5.315666287577262, -5.112130993636775, 3.3965479302041253, 5.303401800277516, 5.031098990359773, 0.6334013005359456, -2.4495992028492157, 0.8311814374745996, 7.564759101949669, 8.046765631247535, -2.0423408810617065, -0.0457691648445806, -1.0377929543280509, 2.991249587576842, -4.98792263926741, -6.174099776071401, -3.3164524205953683, 6.539524977177667, 1.8675657374425612, 6.217587081941055, 4.8673141782347145, 1.8017613941705868, 2.3225198285658237, 6.123187222610834, 11.095312193843377, 1.7071194340756648, -0.15500088137774348]\n",
            "13.644285218849518 [-2.134758914249332, -5.600933938143857, 0.3345529277721191, -5.315666287577262, -5.112130993636775, 3.3965479302041253, 5.303401800277516, 5.031098990359773, 0.6334013005359456, -2.4495992028492157, 0.8311814374745996, 7.564759101949669, 8.046765631247535, -2.0423408810617065, -0.0457691648445806, -1.0377929543280509, 2.991249587576842, -4.98792263926741, -6.174099776071401, -3.3164524205953683, 6.539524977177667, 1.8675657374425612, 6.217587081941055, 4.8673141782347145, 1.8017613941705868, 2.3225198285658237, 6.123187222610834, 11.095312193843377, 1.7071194340756648, -0.15500088137774348]\n",
            "13.644285218849518 [-2.134758914249332, -5.600933938143857, 0.3345529277721191, -5.315666287577262, -5.112130993636775, 3.3965479302041253, 5.303401800277516, 5.031098990359773, 0.6334013005359456, -2.4495992028492157, 0.8311814374745996, 7.564759101949669, 8.046765631247535, -2.0423408810617065, -0.0457691648445806, -1.0377929543280509, 2.991249587576842, -4.98792263926741, -6.174099776071401, -3.3164524205953683, 6.539524977177667, 1.8675657374425612, 6.217587081941055, 4.8673141782347145, 1.8017613941705868, 2.3225198285658237, 6.123187222610834, 11.095312193843377, 1.7071194340756648, -0.15500088137774348]\n",
            "13.644285218849518 [-2.134758914249332, -5.600933938143857, 0.3345529277721191, -5.315666287577262, -5.112130993636775, 3.3965479302041253, 5.303401800277516, 5.031098990359773, 0.6334013005359456, -2.4495992028492157, 0.8311814374745996, 7.564759101949669, 8.046765631247535, -2.0423408810617065, -0.0457691648445806, -1.0377929543280509, 2.991249587576842, -4.98792263926741, -6.174099776071401, -3.3164524205953683, 6.539524977177667, 1.8675657374425612, 6.217587081941055, 4.8673141782347145, 1.8017613941705868, 2.3225198285658237, 6.123187222610834, 11.095312193843377, 1.7071194340756648, -0.15500088137774348]\n",
            "13.644285218849518 [-2.134758914249332, -5.600933938143857, 0.3345529277721191, -5.315666287577262, -5.112130993636775, 3.3965479302041253, 5.303401800277516, 5.031098990359773, 0.6334013005359456, -2.4495992028492157, 0.8311814374745996, 7.564759101949669, 8.046765631247535, -2.0423408810617065, -0.0457691648445806, -1.0377929543280509, 2.991249587576842, -4.98792263926741, -6.174099776071401, -3.3164524205953683, 6.539524977177667, 1.8675657374425612, 6.217587081941055, 4.8673141782347145, 1.8017613941705868, 2.3225198285658237, 6.123187222610834, 11.095312193843377, 1.7071194340756648, -0.15500088137774348]\n",
            "13.644285218849518 [-2.134758914249332, -5.600933938143857, 0.3345529277721191, -5.315666287577262, -5.112130993636775, 3.3965479302041253, 5.303401800277516, 5.031098990359773, 0.6334013005359456, -2.4495992028492157, 0.8311814374745996, 7.564759101949669, 8.046765631247535, -2.0423408810617065, -0.0457691648445806, -1.0377929543280509, 2.991249587576842, -4.98792263926741, -6.174099776071401, -3.3164524205953683, 6.539524977177667, 1.8675657374425612, 6.217587081941055, 4.8673141782347145, 1.8017613941705868, 2.3225198285658237, 6.123187222610834, 11.095312193843377, 1.7071194340756648, -0.15500088137774348]\n",
            "13.644285218849518 [-2.134758914249332, -5.600933938143857, 0.3345529277721191, -5.315666287577262, -5.112130993636775, 3.3965479302041253, 5.303401800277516, 5.031098990359773, 0.6334013005359456, -2.4495992028492157, 0.8311814374745996, 7.564759101949669, 8.046765631247535, -2.0423408810617065, -0.0457691648445806, -1.0377929543280509, 2.991249587576842, -4.98792263926741, -6.174099776071401, -3.3164524205953683, 6.539524977177667, 1.8675657374425612, 6.217587081941055, 4.8673141782347145, 1.8017613941705868, 2.3225198285658237, 6.123187222610834, 11.095312193843377, 1.7071194340756648, -0.15500088137774348]\n",
            "13.644285218849518 [-2.134758914249332, -5.600933938143857, 0.3345529277721191, -5.315666287577262, -5.112130993636775, 3.3965479302041253, 5.303401800277516, 5.031098990359773, 0.6334013005359456, -2.4495992028492157, 0.8311814374745996, 7.564759101949669, 8.046765631247535, -2.0423408810617065, -0.0457691648445806, -1.0377929543280509, 2.991249587576842, -4.98792263926741, -6.174099776071401, -3.3164524205953683, 6.539524977177667, 1.8675657374425612, 6.217587081941055, 4.8673141782347145, 1.8017613941705868, 2.3225198285658237, 6.123187222610834, 11.095312193843377, 1.7071194340756648, -0.15500088137774348]\n",
            "13.644285218849518 [-2.134758914249332, -5.600933938143857, 0.3345529277721191, -5.315666287577262, -5.112130993636775, 3.3965479302041253, 5.303401800277516, 5.031098990359773, 0.6334013005359456, -2.4495992028492157, 0.8311814374745996, 7.564759101949669, 8.046765631247535, -2.0423408810617065, -0.0457691648445806, -1.0377929543280509, 2.991249587576842, -4.98792263926741, -6.174099776071401, -3.3164524205953683, 6.539524977177667, 1.8675657374425612, 6.217587081941055, 4.8673141782347145, 1.8017613941705868, 2.3225198285658237, 6.123187222610834, 11.095312193843377, 1.7071194340756648, -0.15500088137774348]\n",
            "13.644285218849518 [-2.134758914249332, -5.600933938143857, 0.3345529277721191, -5.315666287577262, -5.112130993636775, 3.3965479302041253, 5.303401800277516, 5.031098990359773, 0.6334013005359456, -2.4495992028492157, 0.8311814374745996, 7.564759101949669, 8.046765631247535, -2.0423408810617065, -0.0457691648445806, -1.0377929543280509, 2.991249587576842, -4.98792263926741, -6.174099776071401, -3.3164524205953683, 6.539524977177667, 1.8675657374425612, 6.217587081941055, 4.8673141782347145, 1.8017613941705868, 2.3225198285658237, 6.123187222610834, 11.095312193843377, 1.7071194340756648, -0.15500088137774348]\n",
            "13.644285218849518 [-2.134758914249332, -5.600933938143857, 0.3345529277721191, -5.315666287577262, -5.112130993636775, 3.3965479302041253, 5.303401800277516, 5.031098990359773, 0.6334013005359456, -2.4495992028492157, 0.8311814374745996, 7.564759101949669, 8.046765631247535, -2.0423408810617065, -0.0457691648445806, -1.0377929543280509, 2.991249587576842, -4.98792263926741, -6.174099776071401, -3.3164524205953683, 6.539524977177667, 1.8675657374425612, 6.217587081941055, 4.8673141782347145, 1.8017613941705868, 2.3225198285658237, 6.123187222610834, 11.095312193843377, 1.7071194340756648, -0.15500088137774348]\n",
            "13.644285218849518 [-2.134758914249332, -5.600933938143857, 0.3345529277721191, -5.315666287577262, -5.112130993636775, 3.3965479302041253, 5.303401800277516, 5.031098990359773, 0.6334013005359456, -2.4495992028492157, 0.8311814374745996, 7.564759101949669, 8.046765631247535, -2.0423408810617065, -0.0457691648445806, -1.0377929543280509, 2.991249587576842, -4.98792263926741, -6.174099776071401, -3.3164524205953683, 6.539524977177667, 1.8675657374425612, 6.217587081941055, 4.8673141782347145, 1.8017613941705868, 2.3225198285658237, 6.123187222610834, 11.095312193843377, 1.7071194340756648, -0.15500088137774348]\n",
            "13.644285218849518 [-2.134758914249332, -5.600933938143857, 0.3345529277721191, -5.315666287577262, -5.112130993636775, 3.3965479302041253, 5.303401800277516, 5.031098990359773, 0.6334013005359456, -2.4495992028492157, 0.8311814374745996, 7.564759101949669, 8.046765631247535, -2.0423408810617065, -0.0457691648445806, -1.0377929543280509, 2.991249587576842, -4.98792263926741, -6.174099776071401, -3.3164524205953683, 6.539524977177667, 1.8675657374425612, 6.217587081941055, 4.8673141782347145, 1.8017613941705868, 2.3225198285658237, 6.123187222610834, 11.095312193843377, 1.7071194340756648, -0.15500088137774348]\n",
            "13.644285218849518 [-2.134758914249332, -5.600933938143857, 0.3345529277721191, -5.315666287577262, -5.112130993636775, 3.3965479302041253, 5.303401800277516, 5.031098990359773, 0.6334013005359456, -2.4495992028492157, 0.8311814374745996, 7.564759101949669, 8.046765631247535, -2.0423408810617065, -0.0457691648445806, -1.0377929543280509, 2.991249587576842, -4.98792263926741, -6.174099776071401, -3.3164524205953683, 6.539524977177667, 1.8675657374425612, 6.217587081941055, 4.8673141782347145, 1.8017613941705868, 2.3225198285658237, 6.123187222610834, 11.095312193843377, 1.7071194340756648, -0.15500088137774348]\n",
            "13.644285218849518 [-2.134758914249332, -5.600933938143857, 0.3345529277721191, -5.315666287577262, -5.112130993636775, 3.3965479302041253, 5.303401800277516, 5.031098990359773, 0.6334013005359456, -2.4495992028492157, 0.8311814374745996, 7.564759101949669, 8.046765631247535, -2.0423408810617065, -0.0457691648445806, -1.0377929543280509, 2.991249587576842, -4.98792263926741, -6.174099776071401, -3.3164524205953683, 6.539524977177667, 1.8675657374425612, 6.217587081941055, 4.8673141782347145, 1.8017613941705868, 2.3225198285658237, 6.123187222610834, 11.095312193843377, 1.7071194340756648, -0.15500088137774348]\n",
            "13.644285218849518 [-2.134758914249332, -5.600933938143857, 0.3345529277721191, -5.315666287577262, -5.112130993636775, 3.3965479302041253, 5.303401800277516, 5.031098990359773, 0.6334013005359456, -2.4495992028492157, 0.8311814374745996, 7.564759101949669, 8.046765631247535, -2.0423408810617065, -0.0457691648445806, -1.0377929543280509, 2.991249587576842, -4.98792263926741, -6.174099776071401, -3.3164524205953683, 6.539524977177667, 1.8675657374425612, 6.217587081941055, 4.8673141782347145, 1.8017613941705868, 2.3225198285658237, 6.123187222610834, 11.095312193843377, 1.7071194340756648, -0.15500088137774348]\n",
            "13.644285218849518 [-2.134758914249332, -5.600933938143857, 0.3345529277721191, -5.315666287577262, -5.112130993636775, 3.3965479302041253, 5.303401800277516, 5.031098990359773, 0.6334013005359456, -2.4495992028492157, 0.8311814374745996, 7.564759101949669, 8.046765631247535, -2.0423408810617065, -0.0457691648445806, -1.0377929543280509, 2.991249587576842, -4.98792263926741, -6.174099776071401, -3.3164524205953683, 6.539524977177667, 1.8675657374425612, 6.217587081941055, 4.8673141782347145, 1.8017613941705868, 2.3225198285658237, 6.123187222610834, 11.095312193843377, 1.7071194340756648, -0.15500088137774348]\n"
          ]
        },
        {
          "ename": "KeyboardInterrupt",
          "evalue": "",
          "output_type": "error",
          "traceback": [
            "\u001b[1;31m---------------------------------------------------------------------------\u001b[0m",
            "\u001b[1;31mKeyboardInterrupt\u001b[0m                         Traceback (most recent call last)",
            "\u001b[1;32mc:\\Users\\vhkun\\Documents\\BioInspirada\\AckleyEE.ipynb Célula: 35\u001b[0m in \u001b[0;36m<cell line: 7>\u001b[1;34m()\u001b[0m\n\u001b[0;32m     <a href='vscode-notebook-cell:/c%3A/Users/vhkun/Documents/BioInspirada/AckleyEE.ipynb#ch0000039?line=9'>10</a>\u001b[0m filhos \u001b[39m=\u001b[39m crossover()\n\u001b[0;32m     <a href='vscode-notebook-cell:/c%3A/Users/vhkun/Documents/BioInspirada/AckleyEE.ipynb#ch0000039?line=10'>11</a>\u001b[0m \u001b[39m# filhos = mutate(filhos)\u001b[39;00m\n\u001b[1;32m---> <a href='vscode-notebook-cell:/c%3A/Users/vhkun/Documents/BioInspirada/AckleyEE.ipynb#ch0000039?line=11'>12</a>\u001b[0m generational(filhos)\n\u001b[0;32m     <a href='vscode-notebook-cell:/c%3A/Users/vhkun/Documents/BioInspirada/AckleyEE.ipynb#ch0000039?line=13'>14</a>\u001b[0m curr_best_fitness \u001b[39m=\u001b[39m fitness(FITNESS_FUNC, POPULACAO[\u001b[39m0\u001b[39m][\u001b[39m0\u001b[39m])\n\u001b[0;32m     <a href='vscode-notebook-cell:/c%3A/Users/vhkun/Documents/BioInspirada/AckleyEE.ipynb#ch0000039?line=15'>16</a>\u001b[0m iteration \u001b[39m+\u001b[39m\u001b[39m=\u001b[39m \u001b[39m1\u001b[39m\n",
            "\u001b[1;32mc:\\Users\\vhkun\\Documents\\BioInspirada\\AckleyEE.ipynb Célula: 35\u001b[0m in \u001b[0;36mgenerational\u001b[1;34m(filhos)\u001b[0m\n\u001b[0;32m      <a href='vscode-notebook-cell:/c%3A/Users/vhkun/Documents/BioInspirada/AckleyEE.ipynb#ch0000039?line=0'>1</a>\u001b[0m \u001b[39mdef\u001b[39;00m \u001b[39mgenerational\u001b[39m(filhos: List[Tuple[List[\u001b[39mfloat\u001b[39m], \u001b[39mfloat\u001b[39m]]):\n\u001b[0;32m      <a href='vscode-notebook-cell:/c%3A/Users/vhkun/Documents/BioInspirada/AckleyEE.ipynb#ch0000039?line=1'>2</a>\u001b[0m     \u001b[39mglobal\u001b[39;00m POPULACAO, FITNESS_FUNC, TAM_DA_POPULACAO\n\u001b[1;32m----> <a href='vscode-notebook-cell:/c%3A/Users/vhkun/Documents/BioInspirada/AckleyEE.ipynb#ch0000039?line=3'>4</a>\u001b[0m     filhos\u001b[39m.\u001b[39;49msort(key\u001b[39m=\u001b[39;49m\u001b[39mlambda\u001b[39;49;00m filho: fitness(FITNESS_FUNC, filho[\u001b[39m0\u001b[39;49m]), reverse\u001b[39m=\u001b[39;49m\u001b[39mFalse\u001b[39;49;00m)\n\u001b[0;32m      <a href='vscode-notebook-cell:/c%3A/Users/vhkun/Documents/BioInspirada/AckleyEE.ipynb#ch0000039?line=4'>5</a>\u001b[0m     POPULACAO \u001b[39m=\u001b[39m filhos[:TAM_DA_POPULACAO]\n",
            "\u001b[1;32mc:\\Users\\vhkun\\Documents\\BioInspirada\\AckleyEE.ipynb Célula: 35\u001b[0m in \u001b[0;36mgenerational.<locals>.<lambda>\u001b[1;34m(filho)\u001b[0m\n\u001b[0;32m      <a href='vscode-notebook-cell:/c%3A/Users/vhkun/Documents/BioInspirada/AckleyEE.ipynb#ch0000039?line=0'>1</a>\u001b[0m \u001b[39mdef\u001b[39;00m \u001b[39mgenerational\u001b[39m(filhos: List[Tuple[List[\u001b[39mfloat\u001b[39m], \u001b[39mfloat\u001b[39m]]):\n\u001b[0;32m      <a href='vscode-notebook-cell:/c%3A/Users/vhkun/Documents/BioInspirada/AckleyEE.ipynb#ch0000039?line=1'>2</a>\u001b[0m     \u001b[39mglobal\u001b[39;00m POPULACAO, FITNESS_FUNC, TAM_DA_POPULACAO\n\u001b[1;32m----> <a href='vscode-notebook-cell:/c%3A/Users/vhkun/Documents/BioInspirada/AckleyEE.ipynb#ch0000039?line=3'>4</a>\u001b[0m     filhos\u001b[39m.\u001b[39msort(key\u001b[39m=\u001b[39m\u001b[39mlambda\u001b[39;00m filho: fitness(FITNESS_FUNC, filho[\u001b[39m0\u001b[39;49m]), reverse\u001b[39m=\u001b[39m\u001b[39mFalse\u001b[39;00m)\n\u001b[0;32m      <a href='vscode-notebook-cell:/c%3A/Users/vhkun/Documents/BioInspirada/AckleyEE.ipynb#ch0000039?line=4'>5</a>\u001b[0m     POPULACAO \u001b[39m=\u001b[39m filhos[:TAM_DA_POPULACAO]\n",
            "\u001b[1;32mc:\\Users\\vhkun\\Documents\\BioInspirada\\AckleyEE.ipynb Célula: 35\u001b[0m in \u001b[0;36mfitness\u001b[1;34m(fitness_func, cromossome)\u001b[0m\n\u001b[0;32m      <a href='vscode-notebook-cell:/c%3A/Users/vhkun/Documents/BioInspirada/AckleyEE.ipynb#ch0000039?line=0'>1</a>\u001b[0m \u001b[39mdef\u001b[39;00m \u001b[39mfitness\u001b[39m(fitness_func: Callable, cromossome: List[\u001b[39mfloat\u001b[39m]):\n\u001b[1;32m----> <a href='vscode-notebook-cell:/c%3A/Users/vhkun/Documents/BioInspirada/AckleyEE.ipynb#ch0000039?line=1'>2</a>\u001b[0m     \u001b[39mreturn\u001b[39;00m fitness_func(cromossome)\n",
            "\u001b[1;32mc:\\Users\\vhkun\\Documents\\BioInspirada\\AckleyEE.ipynb Célula: 35\u001b[0m in \u001b[0;36mackley_funct\u001b[1;34m(x)\u001b[0m\n\u001b[0;32m      <a href='vscode-notebook-cell:/c%3A/Users/vhkun/Documents/BioInspirada/AckleyEE.ipynb#ch0000039?line=0'>1</a>\u001b[0m \u001b[39mdef\u001b[39;00m \u001b[39mackley_funct\u001b[39m(x: List[\u001b[39mfloat\u001b[39m]):\n\u001b[0;32m      <a href='vscode-notebook-cell:/c%3A/Users/vhkun/Documents/BioInspirada/AckleyEE.ipynb#ch0000039?line=1'>2</a>\u001b[0m   \u001b[39mreturn\u001b[39;00m \u001b[39m-\u001b[39m A \u001b[39m*\u001b[39m exp(\u001b[39m-\u001b[39mB \u001b[39m*\u001b[39m sqrt(\u001b[39msum\u001b[39m(\u001b[39mmap\u001b[39m(\u001b[39mlambda\u001b[39;00m n: n \u001b[39m*\u001b[39m\u001b[39m*\u001b[39m \u001b[39m2\u001b[39m, x)) \u001b[39m/\u001b[39m D)) \\\n\u001b[1;32m----> <a href='vscode-notebook-cell:/c%3A/Users/vhkun/Documents/BioInspirada/AckleyEE.ipynb#ch0000039?line=2'>3</a>\u001b[0m           \u001b[39m-\u001b[39m exp(\u001b[39msum\u001b[39;49m(\u001b[39mmap\u001b[39;49m(\u001b[39mlambda\u001b[39;49;00m n: cos(C \u001b[39m*\u001b[39;49m n), x)) \u001b[39m/\u001b[39m D) \\\n\u001b[0;32m      <a href='vscode-notebook-cell:/c%3A/Users/vhkun/Documents/BioInspirada/AckleyEE.ipynb#ch0000039?line=3'>4</a>\u001b[0m           \u001b[39m+\u001b[39m A \u001b[39m+\u001b[39m exp(\u001b[39m1\u001b[39m)\n",
            "\u001b[1;32mc:\\Users\\vhkun\\Documents\\BioInspirada\\AckleyEE.ipynb Célula: 35\u001b[0m in \u001b[0;36mackley_funct.<locals>.<lambda>\u001b[1;34m(n)\u001b[0m\n\u001b[0;32m      <a href='vscode-notebook-cell:/c%3A/Users/vhkun/Documents/BioInspirada/AckleyEE.ipynb#ch0000039?line=0'>1</a>\u001b[0m \u001b[39mdef\u001b[39;00m \u001b[39mackley_funct\u001b[39m(x: List[\u001b[39mfloat\u001b[39m]):\n\u001b[0;32m      <a href='vscode-notebook-cell:/c%3A/Users/vhkun/Documents/BioInspirada/AckleyEE.ipynb#ch0000039?line=1'>2</a>\u001b[0m   \u001b[39mreturn\u001b[39;00m \u001b[39m-\u001b[39m A \u001b[39m*\u001b[39m exp(\u001b[39m-\u001b[39mB \u001b[39m*\u001b[39m sqrt(\u001b[39msum\u001b[39m(\u001b[39mmap\u001b[39m(\u001b[39mlambda\u001b[39;00m n: n \u001b[39m*\u001b[39m\u001b[39m*\u001b[39m \u001b[39m2\u001b[39m, x)) \u001b[39m/\u001b[39m D)) \\\n\u001b[1;32m----> <a href='vscode-notebook-cell:/c%3A/Users/vhkun/Documents/BioInspirada/AckleyEE.ipynb#ch0000039?line=2'>3</a>\u001b[0m           \u001b[39m-\u001b[39m exp(\u001b[39msum\u001b[39m(\u001b[39mmap\u001b[39m(\u001b[39mlambda\u001b[39;00m n: cos(C \u001b[39m*\u001b[39;49m n), x)) \u001b[39m/\u001b[39m D) \\\n\u001b[0;32m      <a href='vscode-notebook-cell:/c%3A/Users/vhkun/Documents/BioInspirada/AckleyEE.ipynb#ch0000039?line=3'>4</a>\u001b[0m           \u001b[39m+\u001b[39m A \u001b[39m+\u001b[39m exp(\u001b[39m1\u001b[39m)\n",
            "\u001b[1;31mKeyboardInterrupt\u001b[0m: "
          ]
        }
      ],
      "source": [
        "reset_population()\n",
        "generate_population()\n",
        "iteration = 0\n",
        "\n",
        "curr_best_fitness = float(\"inf\")\n",
        "\n",
        "while (not should_stop(curr_best_fitness, iteration)):\n",
        "    reset_success()\n",
        "    \n",
        "    filhos = crossover()\n",
        "    # filhos = mutate(filhos)\n",
        "    generational(filhos)\n",
        "\n",
        "    curr_best_fitness = fitness(FITNESS_FUNC, POPULACAO[0][0])\n",
        "      \n",
        "    iteration += 1\n",
        "\n",
        "    if iteration % 50 == 0:\n",
        "        print(curr_best_fitness, POPULACAO[0][0])\n",
        "\n",
        "print(iteration)\n"
      ]
    },
    {
      "cell_type": "markdown",
      "metadata": {},
      "source": [
        "# Estratégia Genética"
      ]
    },
    {
      "cell_type": "markdown",
      "metadata": {},
      "source": [
        "## Versão 1"
      ]
    },
    {
      "cell_type": "code",
      "execution_count": null,
      "metadata": {},
      "outputs": [],
      "source": []
    }
  ],
  "metadata": {
    "colab": {
      "collapsed_sections": [],
      "provenance": []
    },
    "kernelspec": {
      "display_name": "Python 3.10.4 64-bit",
      "language": "python",
      "name": "python3"
    },
    "language_info": {
      "codemirror_mode": {
        "name": "ipython",
        "version": 3
      },
      "file_extension": ".py",
      "mimetype": "text/x-python",
      "name": "python",
      "nbconvert_exporter": "python",
      "pygments_lexer": "ipython3",
      "version": "3.10.4"
    },
    "vscode": {
      "interpreter": {
        "hash": "2cc2e16dbee610b0e1c32f41d5c733295c8c2d617135d4c87338d8903d28c5c5"
      }
    }
  },
  "nbformat": 4,
  "nbformat_minor": 0
}
